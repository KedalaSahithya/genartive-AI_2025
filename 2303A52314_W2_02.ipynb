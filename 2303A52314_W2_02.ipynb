{
  "nbformat": 4,
  "nbformat_minor": 0,
  "metadata": {
    "colab": {
      "provenance": [],
      "authorship_tag": "ABX9TyP+bJIEd6cQq1pMzB4+5ONx",
      "include_colab_link": true
    },
    "kernelspec": {
      "name": "python3",
      "display_name": "Python 3"
    },
    "language_info": {
      "name": "python"
    }
  },
  "cells": [
    {
      "cell_type": "markdown",
      "metadata": {
        "id": "view-in-github",
        "colab_type": "text"
      },
      "source": [
        "<a href=\"https://colab.research.google.com/github/KedalaSahithya/genartive-AI_2025/blob/main/2303A52314_W2_02.ipynb\" target=\"_parent\"><img src=\"https://colab.research.google.com/assets/colab-badge.svg\" alt=\"Open In Colab\"/></a>"
      ]
    },
    {
      "cell_type": "code",
      "execution_count": 1,
      "metadata": {
        "colab": {
          "base_uri": "https://localhost:8080/"
        },
        "id": "WzyaG7UYxWzG",
        "outputId": "fd299024-728b-4139-a771-d0d710390d86"
      },
      "outputs": [
        {
          "output_type": "stream",
          "name": "stdout",
          "text": [
            "Optimal units of A: 2\n",
            "Optimal units of B: 3\n",
            "Maximum Profit: 27\n"
          ]
        }
      ],
      "source": [
        "#Case_Study-01: Chocolate Manufacturing Optimization Problem using Brute-Force\n",
        "def maximize_profit():\n",
        "    max_profit = 0\n",
        "    best_x, best_y = 0, 0\n",
        "\n",
        "    for x in range(6):\n",
        "        for y in range(6):\n",
        "            if (x + y <= 5) and (3*x + 2*y <= 12):\n",
        "                profit = 6*x + 5*y\n",
        "                if profit > max_profit:\n",
        "                    max_profit = profit\n",
        "                    best_x, best_y = x, y\n",
        "\n",
        "    return best_x, best_y, max_profit\n",
        "x_opt, y_opt, max_profit = maximize_profit()\n",
        "print(\"Optimal units of A:\", x_opt)\n",
        "print(\"Optimal units of B:\", y_opt)\n",
        "print(\"Maximum Profit:\", max_profit)"
      ]
    },
    {
      "cell_type": "code",
      "source": [
        "#Case_Study-02: Farmer's Optimization Problem using Brute-Force\n",
        "def maximize_farm_profit():\n",
        "    max_profit = 0\n",
        "    best_x, best_y = 0, 0\n",
        "\n",
        "    for x in range(111):\n",
        "        for y in range(111 - x):\n",
        "            if (7000*x + 2000*y <= 700000) and (10*x + 30*y <= 1200):\n",
        "                profit = 120*x + 50*y\n",
        "                if profit > max_profit:\n",
        "                    max_profit = profit\n",
        "                    best_x, best_y = x, y\n",
        "\n",
        "    return best_x, best_y, max_profit\n",
        "\n",
        "x_opt, y_opt, max_profit = maximize_farm_profit()\n",
        "print(\"Optimal hectares for Wheat:\", x_opt)\n",
        "print(\"Optimal hectares for Barley:\", y_opt)\n",
        "print(\"Maximum Profit:\", max_profit)"
      ],
      "metadata": {
        "colab": {
          "base_uri": "https://localhost:8080/"
        },
        "id": "JdTvNWSPxcnA",
        "outputId": "2b792b65-37b5-4771-935f-94cfcdcfb5e0"
      },
      "execution_count": 2,
      "outputs": [
        {
          "output_type": "stream",
          "name": "stdout",
          "text": [
            "Optimal hectares for Wheat: 98\n",
            "Optimal hectares for Barley: 7\n",
            "Maximum Profit: 12110\n"
          ]
        }
      ]
    }
  ]
}