{
  "nbformat": 4,
  "nbformat_minor": 0,
  "metadata": {
    "colab": {
      "provenance": [],
      "authorship_tag": "ABX9TyP0Rh1RImjtfxeujUyRgnm9",
      "include_colab_link": true
    },
    "kernelspec": {
      "name": "python3",
      "display_name": "Python 3"
    },
    "language_info": {
      "name": "python"
    }
  },
  "cells": [
    {
      "cell_type": "markdown",
      "metadata": {
        "id": "view-in-github",
        "colab_type": "text"
      },
      "source": [
        "<a href=\"https://colab.research.google.com/github/KedalaSahithya/genartive-AI_2025/blob/main/sahithya_2314_ass_2.ipynb\" target=\"_parent\"><img src=\"https://colab.research.google.com/assets/colab-badge.svg\" alt=\"Open In Colab\"/></a>"
      ]
    },
    {
      "cell_type": "code",
      "execution_count": null,
      "metadata": {
        "colab": {
          "base_uri": "https://localhost:8080/"
        },
        "id": "tO2XQw2QUbHw",
        "outputId": "c410beaf-7725-454f-81e0-4679e40b9c7f"
      },
      "outputs": [
        {
          "output_type": "stream",
          "name": "stdout",
          "text": [
            "Optimal solution found:\n",
            "Units of Chocolate A to produce: 2.00\n",
            "Units of Chocolate B to produce: 3.00\n",
            "Maximum profit: Rs 27.00\n"
          ]
        }
      ],
      "source": [
        "from scipy.optimize import linprog\n",
        "c = [-6, -5]\n",
        "\n",
        "# Coefficients of the inequality constraints\n",
        "# Milk constraint: 1x1 + 1x2 <= 5\n",
        "# Choco constraint: 3x1 + 2x2 <= 12\n",
        "A = [\n",
        "    [1, 1],    # Milk constraint\n",
        "    [3, 2]     # Choco constraint\n",
        "]\n",
        "# Right-hand side of the constraints\n",
        "b = [5, 12]\n",
        "\n",
        "# Bounds for the decision variables (non-negativity constraints)\n",
        "x_bounds = (0, None)  # x1 >= 0\n",
        "y_bounds = (0, None)  # x2 >= 0\n",
        "\n",
        "# Solve the linear programming problem\n",
        "result = linprog(c, A_ub=A, b_ub=b, bounds=[x_bounds, y_bounds], method='highs')\n",
        "\n",
        "# Output the results\n",
        "if result.success:\n",
        "    print(\"Optimal solution found:\")\n",
        "    print(f\"Units of Chocolate A to produce: {result.x[0]:.2f}\")\n",
        "    print(f\"Units of Chocolate B to produce: {result.x[1]:.2f}\")\n",
        "    print(f\"Maximum profit: Rs {(-result.fun):.2f}\")\n",
        "else:\n",
        "    print(\"No solution found.\")\n"
      ]
    },
    {
      "cell_type": "code",
      "source": [
        "from scipy.optimize import linprog\n",
        "\n",
        "# Objective function coefficients (profit per hectare of Wheat and Barley)\n",
        "c = [-50, -120]\n",
        "# Inequality constraints\n",
        "# Cost: 7000x1 + 2000x2 <= 700000\n",
        "# Man-days: 10x1 + 30x2 <= 1200\n",
        "# Total land: x1 + x2 <= 110\n",
        "A = [\n",
        "    [7000, 2000],  # Cost constraint\n",
        "    [10, 30],      # Man-days constraint\n",
        "    [1, 1]         # Land constraint\n",
        "]\n",
        "\n",
        "# Right-hand side of the constraints\n",
        "b = [700000, 1200, 110]\n",
        "\n",
        "# Bounds for decision variables (non-negativity constraints)\n",
        "wheat_bounds = (0, None)  # x1 >= 0\n",
        "barley_bounds = (0, None)  # x2 >= 0\n",
        "\n",
        "# Solve the linear programming problem\n",
        "result = linprog(c, A_ub=A, b_ub=b, bounds=[wheat_bounds, barley_bounds], method='highs')\n",
        "\n",
        "# Output the results\n",
        "if result.success:\n",
        "    print(\"Case Study 2: Farmer's Optimization\")\n",
        "    print(f\"Hectares of Wheat to plant: {result.x[0]:.2f}\")\n",
        "    print(f\"Hectares of Barley to plant: {result.x[1]:.2f}\")\n",
        "    print(f\"Maximum profit: Rs {(-result.fun):.2f}\")\n",
        "else:\n",
        "    print(\"No solution found for Case Study 2.\")\n"
      ],
      "metadata": {
        "colab": {
          "base_uri": "https://localhost:8080/"
        },
        "id": "mS7EHqAfXINK",
        "outputId": "791e822f-0107-4672-b853-4fde8de6204d"
      },
      "execution_count": null,
      "outputs": [
        {
          "output_type": "stream",
          "name": "stdout",
          "text": [
            "Case Study 2: Farmer's Optimization\n",
            "Hectares of Wheat to plant: 97.89\n",
            "Hectares of Barley to plant: 7.37\n",
            "Maximum profit: Rs 5778.95\n"
          ]
        }
      ]
    }
  ]
}