{
  "nbformat": 4,
  "nbformat_minor": 0,
  "metadata": {
    "colab": {
      "provenance": [],
      "authorship_tag": "ABX9TyN38laC4UKhQmttR3kZp/G7",
      "include_colab_link": true
    },
    "kernelspec": {
      "name": "python3",
      "display_name": "Python 3"
    },
    "language_info": {
      "name": "python"
    }
  },
  "cells": [
    {
      "cell_type": "markdown",
      "metadata": {
        "id": "view-in-github",
        "colab_type": "text"
      },
      "source": [
        "<a href=\"https://colab.research.google.com/github/KedalaSahithya/genartive-AI_2025/blob/main/2303A52314_week_1_ass_1.ipynb\" target=\"_parent\"><img src=\"https://colab.research.google.com/assets/colab-badge.svg\" alt=\"Open In Colab\"/></a>"
      ]
    },
    {
      "cell_type": "code",
      "execution_count": null,
      "metadata": {
        "id": "cBNjddCa5Lzs"
      },
      "outputs": [],
      "source": [
        "#Question-1\n",
        "import numpy as np\n",
        "from sklearn.metrics import mean_absolute_error, mean_squared_error\n",
        "Y_actual = np.array([20, 30, 40, 50, 60])\n",
        "Y_pred = np.array([20.5, 30.3, 40.2, 50.6, 60.7])\n",
        "# Error metrics from scratch\n",
        "n = len(Y_actual)\n",
        "mae_scratch = sum(abs(Y_actual - Y_pred)) / n\n",
        "mse_scratch = sum((Y_actual - Y_pred) ** 2) / n\n",
        "rmse_scratch = mse_scratch ** 0.5"
      ]
    },
    {
      "cell_type": "code",
      "source": [
        "print(mae_scratch)\n",
        "print( mse_scratch)\n",
        "print( rmse_scratch)"
      ],
      "metadata": {
        "colab": {
          "base_uri": "https://localhost:8080/"
        },
        "id": "WDy0JDFl6xbC",
        "outputId": "be075a2a-2df8-4bc0-ecbf-e25a44b86929"
      },
      "execution_count": null,
      "outputs": [
        {
          "output_type": "stream",
          "name": "stdout",
          "text": [
            "0.4600000000000016\n",
            "0.24600000000000147\n",
            "0.49598387070549127\n"
          ]
        }
      ]
    },
    {
      "cell_type": "code",
      "source": [
        "# Using libraries\n",
        "mae_library = mean_absolute_error(Y_actual, Y_pred)\n",
        "mse_library = mean_squared_error(Y_actual, Y_pred)\n",
        "rmse_library = mse_library ** 0.5\n"
      ],
      "metadata": {
        "id": "i0Nb3iQK7Hwl"
      },
      "execution_count": null,
      "outputs": []
    },
    {
      "cell_type": "code",
      "source": [
        "print(\"\\nError Metrics from Libraries:\")\n",
        "print(f\"MAE: {mae_library}\")\n",
        "print(f\"MSE: {mse_library}\")\n",
        "print(f\"RMSE: {rmse_library}\")\n"
      ],
      "metadata": {
        "colab": {
          "base_uri": "https://localhost:8080/"
        },
        "id": "mTgQJqx87L7r",
        "outputId": "73373b87-f33f-4b7e-ee88-a1f64f1286fe"
      },
      "execution_count": null,
      "outputs": [
        {
          "output_type": "stream",
          "name": "stdout",
          "text": [
            "\n",
            "Error Metrics from Libraries:\n",
            "MAE: 0.4600000000000016\n",
            "MSE: 0.24600000000000147\n",
            "RMSE: 0.49598387070549127\n"
          ]
        }
      ]
    },
    {
      "cell_type": "code",
      "source": [
        "# Question 2\n",
        "from sklearn.metrics import classification_report, accuracy_score, precision_score, recall_score, f1_score\n",
        "Y_actual = np.array([0, 0, 1, 1, 2, 0, 0, 0, 1, 0, 2, 0, 0, 1, 1, 2, 2, 1, 0, 2, 1, 0, 2, 2, 0])\n",
        "Y_pred = np.array([0, 0, 1, 0, 2, 0, 0, 1, 1, 2, 2, 1, 0, 2, 1, 2, 2, 2, 0, 2, 1, 2, 2, 2, 2])\n",
        "\n",
        "# From scratch\n",
        "accuracy_scratch = sum(Y_actual == Y_pred) / len(Y_actual)\n",
        "\n",
        "# Per-class metrics\n",
        "classes = set(Y_actual)\n",
        "precision_scratch = []\n",
        "recall_scratch = []\n",
        "f1_scratch = []\n",
        "\n",
        "for cls in classes:\n",
        "    tp = sum((Y_actual == cls) & (Y_pred == cls))  # True positives\n",
        "    fp = sum((Y_actual != cls) & (Y_pred == cls))  # False positives\n",
        "    fn = sum((Y_actual == cls) & (Y_pred != cls))  # False negatives\n",
        "\n",
        "    precision = tp / (tp + fp) if tp + fp > 0 else 0\n",
        "    recall = tp / (tp + fn) if tp + fn > 0 else 0\n",
        "    f1 = 2 * precision * recall / (precision + recall) if precision + recall > 0 else 0\n",
        "\n",
        "    precision_scratch.append(precision)\n",
        "    recall_scratch.append(recall)\n",
        "    f1_scratch.append(f1)\n",
        "\n",
        "# Average metrics\n",
        "precision_macro = sum(precision_scratch) / len(classes)\n",
        "recall_macro = sum(recall_scratch) / len(classes)\n",
        "f1_macro = sum(f1_scratch) / len(classes)\n",
        "\n",
        "# Using libraries\n",
        "accuracy_library = accuracy_score(Y_actual, Y_pred)\n",
        "precision_library = precision_score(Y_actual, Y_pred, average='macro')\n",
        "recall_library = recall_score(Y_actual, Y_pred, average='macro')\n",
        "f1_library = f1_score(Y_actual, Y_pred, average='macro')\n",
        "\n",
        "# Display results\n",
        "print(\"Evaluation Metrics from Scratch:\")\n",
        "print(f\"Accuracy: {accuracy_scratch}\")\n",
        "print(f\"Precision: {precision_macro}\")\n",
        "print(f\"Recall: {recall_macro}\")\n",
        "print(f\"F1-Score: {f1_macro}\")\n",
        "\n",
        "print(\"\\nEvaluation Metrics from Libraries:\")\n",
        "print(f\"Accuracy: {accuracy_library}\")\n",
        "print(f\"Precision: {precision_library}\")\n",
        "print(f\"Recall: {recall_library}\")\n",
        "print(f\"F1-Score: {f1_library}\")\n"
      ],
      "metadata": {
        "colab": {
          "base_uri": "https://localhost:8080/"
        },
        "id": "Utwxk4_L9aPM",
        "outputId": "9ba9fa33-4626-4320-9b0c-686137a89606"
      },
      "execution_count": null,
      "outputs": [
        {
          "output_type": "stream",
          "name": "stdout",
          "text": [
            "Evaluation Metrics from Scratch:\n",
            "Accuracy: 0.68\n",
            "Precision: 0.7023809523809524\n",
            "Recall: 0.7056277056277057\n",
            "F1-Score: 0.6729644624381467\n",
            "\n",
            "Evaluation Metrics from Libraries:\n",
            "Accuracy: 0.68\n",
            "Precision: 0.7023809523809524\n",
            "Recall: 0.7056277056277057\n",
            "F1-Score: 0.6729644624381467\n"
          ]
        }
      ]
    }
  ]
}