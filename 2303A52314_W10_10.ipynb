{
  "nbformat": 4,
  "nbformat_minor": 0,
  "metadata": {
    "colab": {
      "provenance": [],
      "authorship_tag": "ABX9TyMqUPkcgo8biMIL+IrVhYBi",
      "include_colab_link": true
    },
    "kernelspec": {
      "name": "python3",
      "display_name": "Python 3"
    },
    "language_info": {
      "name": "python"
    }
  },
  "cells": [
    {
      "cell_type": "markdown",
      "metadata": {
        "id": "view-in-github",
        "colab_type": "text"
      },
      "source": [
        "<a href=\"https://colab.research.google.com/github/KedalaSahithya/genartive-AI_2025/blob/main/2303A52314_W10_10.ipynb\" target=\"_parent\"><img src=\"https://colab.research.google.com/assets/colab-badge.svg\" alt=\"Open In Colab\"/></a>"
      ]
    },
    {
      "cell_type": "code",
      "execution_count": 1,
      "metadata": {
        "colab": {
          "base_uri": "https://localhost:8080/"
        },
        "id": "ZPpUdWj1wGil",
        "outputId": "b849ab16-d6e3-4e27-ab20-54e505c9ff43"
      },
      "outputs": [
        {
          "output_type": "stream",
          "name": "stdout",
          "text": [
            "Downloading data from https://storage.googleapis.com/tensorflow/tf-keras-datasets/mnist.npz\n",
            "\u001b[1m11490434/11490434\u001b[0m \u001b[32m━━━━━━━━━━━━━━━━━━━━\u001b[0m\u001b[37m\u001b[0m \u001b[1m1s\u001b[0m 0us/step\n"
          ]
        },
        {
          "output_type": "stream",
          "name": "stderr",
          "text": [
            "/usr/local/lib/python3.11/dist-packages/keras/src/layers/convolutional/base_conv.py:107: UserWarning: Do not pass an `input_shape`/`input_dim` argument to a layer. When using Sequential models, prefer using an `Input(shape)` object as the first layer in the model instead.\n",
            "  super().__init__(activity_regularizer=activity_regularizer, **kwargs)\n"
          ]
        },
        {
          "output_type": "stream",
          "name": "stdout",
          "text": [
            "Epoch 1/15\n",
            "79/79 - 15s - 194ms/step - accuracy: 0.8043 - loss: 0.6727 - val_accuracy: 0.9210 - val_loss: 0.2704\n",
            "Epoch 2/15\n",
            "79/79 - 17s - 220ms/step - accuracy: 0.9482 - loss: 0.1759 - val_accuracy: 0.9465 - val_loss: 0.1721\n",
            "Epoch 3/15\n",
            "79/79 - 9s - 113ms/step - accuracy: 0.9645 - loss: 0.1150 - val_accuracy: 0.9620 - val_loss: 0.1281\n",
            "Epoch 4/15\n",
            "79/79 - 11s - 134ms/step - accuracy: 0.9725 - loss: 0.0917 - val_accuracy: 0.9540 - val_loss: 0.1585\n",
            "Epoch 5/15\n",
            "79/79 - 10s - 124ms/step - accuracy: 0.9753 - loss: 0.0819 - val_accuracy: 0.9715 - val_loss: 0.0951\n",
            "Epoch 6/15\n",
            "79/79 - 10s - 131ms/step - accuracy: 0.9829 - loss: 0.0582 - val_accuracy: 0.9640 - val_loss: 0.1174\n",
            "Epoch 7/15\n",
            "79/79 - 10s - 126ms/step - accuracy: 0.9833 - loss: 0.0539 - val_accuracy: 0.9715 - val_loss: 0.0883\n",
            "Epoch 8/15\n",
            "79/79 - 9s - 113ms/step - accuracy: 0.9889 - loss: 0.0355 - val_accuracy: 0.9720 - val_loss: 0.0908\n",
            "Epoch 9/15\n",
            "79/79 - 11s - 142ms/step - accuracy: 0.9906 - loss: 0.0303 - val_accuracy: 0.9685 - val_loss: 0.1077\n",
            "Epoch 10/15\n",
            "79/79 - 10s - 129ms/step - accuracy: 0.9921 - loss: 0.0266 - val_accuracy: 0.9770 - val_loss: 0.0782\n",
            "Epoch 11/15\n",
            "79/79 - 10s - 129ms/step - accuracy: 0.9944 - loss: 0.0201 - val_accuracy: 0.9705 - val_loss: 0.0879\n",
            "Epoch 12/15\n",
            "79/79 - 10s - 128ms/step - accuracy: 0.9965 - loss: 0.0157 - val_accuracy: 0.9745 - val_loss: 0.0894\n",
            "Epoch 13/15\n",
            "79/79 - 9s - 118ms/step - accuracy: 0.9958 - loss: 0.0145 - val_accuracy: 0.9745 - val_loss: 0.0839\n",
            "Epoch 14/15\n",
            "79/79 - 11s - 143ms/step - accuracy: 0.9982 - loss: 0.0075 - val_accuracy: 0.9740 - val_loss: 0.0833\n",
            "Epoch 15/15\n",
            "79/79 - 10s - 132ms/step - accuracy: 0.9985 - loss: 0.0067 - val_accuracy: 0.9675 - val_loss: 0.0993\n",
            "\n",
            "Quick Training Accuracy: 0.9969\n",
            "Quick Testing Accuracy: 0.9675\n"
          ]
        }
      ],
      "source": [
        "import numpy as np\n",
        "import tensorflow as tf\n",
        "from tensorflow.keras.models import Sequential\n",
        "from tensorflow.keras.layers import Conv2D, MaxPooling2D, Flatten, Dense\n",
        "from tensorflow.keras.datasets import mnist\n",
        "from tensorflow.keras.utils import to_categorical\n",
        "\n",
        "# Load and preprocess MNIST data\n",
        "(x_train, y_train), (x_test, y_test) = mnist.load_data()\n",
        "x_train = x_train[:10000].reshape(-1, 28, 28, 1).astype('float32') / 255.0  # Use only 10k samples\n",
        "y_train = to_categorical(y_train[:10000], 10)\n",
        "x_test = x_test[:2000].reshape(-1, 28, 28, 1).astype('float32') / 255.0     # Use only 2k samples\n",
        "y_test = to_categorical(y_test[:2000], 10)\n",
        "\n",
        "# Build simplified CNN model\n",
        "model = Sequential([\n",
        "    Conv2D(33, kernel_size=(3, 3), activation='relu', input_shape=(28, 28, 1)),\n",
        "    MaxPooling2D(pool_size=(2, 2)),\n",
        "    Conv2D(64, kernel_size=(3, 3), activation='relu'),\n",
        "    MaxPooling2D(pool_size=(2, 2)),\n",
        "    Flatten(),\n",
        "    Dense(128, activation='relu'),\n",
        "    Dense(10, activation='softmax')\n",
        "    ])\n",
        "\n",
        "# Compile the model\n",
        "model.compile(optimizer='adam', loss='categorical_crossentropy', metrics=['accuracy'])\n",
        "\n",
        "# Train (only 5 epochs for speed)\n",
        "model.fit(x_train, y_train, epochs=15, batch_size=128, verbose=2, validation_data=(x_test, y_test))\n",
        "\n",
        "# Evaluate\n",
        "train_acc = model.evaluate(x_train, y_train, verbose=0)[1]\n",
        "test_acc = model.evaluate(x_test, y_test, verbose=0)[1]\n",
        "\n",
        "print(f\"\\nQuick Training Accuracy: {train_acc:.4f}\")\n",
        "print(f\"Quick Testing Accuracy: {test_acc:.4f}\")\n"
      ]
    }
  ]
}