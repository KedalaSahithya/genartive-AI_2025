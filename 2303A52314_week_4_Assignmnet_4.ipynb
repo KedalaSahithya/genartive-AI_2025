{
  "nbformat": 4,
  "nbformat_minor": 0,
  "metadata": {
    "colab": {
      "provenance": [],
      "authorship_tag": "ABX9TyPNzRP81zX8n/Bg+hMQIq65",
      "include_colab_link": true
    },
    "kernelspec": {
      "name": "python3",
      "display_name": "Python 3"
    },
    "language_info": {
      "name": "python"
    }
  },
  "cells": [
    {
      "cell_type": "markdown",
      "metadata": {
        "id": "view-in-github",
        "colab_type": "text"
      },
      "source": [
        "<a href=\"https://colab.research.google.com/github/KedalaSahithya/genartive-AI_2025/blob/main/2303A52314_week_4_Assignmnet_4.ipynb\" target=\"_parent\"><img src=\"https://colab.research.google.com/assets/colab-badge.svg\" alt=\"Open In Colab\"/></a>"
      ]
    },
    {
      "cell_type": "code",
      "source": [
        "import numpy as np\n",
        "weights = np.random.rand(3)\n",
        "bias = np.random.rand(1)\n",
        "learning_rate = 0.01\n",
        "\n",
        "def linear_activation(x):\n",
        "    return x  # Linear activation function\n",
        "def mean_squared_error(y_true, y_pred):\n",
        "    return np.mean((y_true - y_pred) ** 2)"
      ],
      "metadata": {
        "id": "pcppj29PH_rg"
      },
      "execution_count": 9,
      "outputs": []
    },
    {
      "cell_type": "code",
      "source": [
        "# Step 2: Training Data\n",
        "training_data = np.array([\n",
        "    [0.1, 0.2, 0.3, 0.14],\n",
        "    [0.2, 0.3, 0.4, 0.20],\n",
        "    [0.3, 0.4, 0.5, 0.26],\n",
        "    [0.5, 0.6, 0.7, 0.38],\n",
        "    [0.1, 0.3, 0.5, 0.22],\n",
        "    [0.2, 0.4, 0.6, 0.28],\n",
        "    [0.3, 0.5, 0.7, 0.34],\n",
        "    [0.4, 0.6, 0.8, 0.40],\n",
        "    [0.5, 0.7, 0.1, 0.22]\n",
        "])\n",
        "X_train = training_data[:, :-1]\n",
        "y_train = training_data[:, -1]"
      ],
      "metadata": {
        "id": "bCbbW6EtIG75"
      },
      "execution_count": 10,
      "outputs": []
    },
    {
      "cell_type": "code",
      "source": [
        "# Step 3: Training the Model using Gradient Descent\n",
        "for epoch in range(1000):  # Iterate multiple times to adjust weights\n",
        "    predictions = np.dot(X_train, weights) + bias  # Forward pass\n",
        "    errors = y_train - predictions  # Calculate error\n",
        "\n",
        "    # Gradient calculation\n",
        "    weight_gradient = -2 * np.dot(X_train.T, errors) / len(y_train)\n",
        "    bias_gradient = -2 * np.mean(errors)\n",
        "\n",
        "    # Update parameters\n",
        "    weights -= learning_rate * weight_gradient\n",
        "    bias -= learning_rate * bias_gradient\n",
        "\n",
        "    if epoch % 100 == 0:\n",
        "        loss = mean_squared_error(y_train, predictions)\n",
        "        print(f\"Epoch {epoch}, Loss: {loss}\")"
      ],
      "metadata": {
        "colab": {
          "base_uri": "https://localhost:8080/"
        },
        "id": "Ex4hPPIhIKn4",
        "outputId": "620b8c81-513f-4ef0-e481-2a6db7a3cac5"
      },
      "execution_count": 11,
      "outputs": [
        {
          "output_type": "stream",
          "name": "stdout",
          "text": [
            "Epoch 0, Loss: 0.30068977793113816\n",
            "Epoch 100, Loss: 0.0048862303516967655\n",
            "Epoch 200, Loss: 0.0037850620480991623\n",
            "Epoch 300, Loss: 0.0032816174684310914\n",
            "Epoch 400, Loss: 0.0028462229359261576\n",
            "Epoch 500, Loss: 0.0024689492359679377\n",
            "Epoch 600, Loss: 0.002141997866442332\n",
            "Epoch 700, Loss: 0.0018586228159995664\n",
            "Epoch 800, Loss: 0.00161298669301778\n",
            "Epoch 900, Loss: 0.00140003780039876\n"
          ]
        }
      ]
    },
    {
      "cell_type": "code",
      "source": [
        "# Step 4: Testing Data\n",
        "testing_data = np.array([\n",
        "    [0.6, 0.7, 0.8, 0.44],\n",
        "    [0.7, 0.8, 0.9, 0.50]\n",
        "])\n",
        "X_test = testing_data[:, :-1]\n",
        "y_test = testing_data[:, -1]\n",
        "predictions_test = np.dot(X_test, weights) + bias"
      ],
      "metadata": {
        "id": "2Seo9hCUIQHr"
      },
      "execution_count": 12,
      "outputs": []
    },
    {
      "cell_type": "code",
      "source": [
        "# Step 5: Calculate Mean Squared Error for Test Data\n",
        "test_loss = mean_squared_error(y_test, predictions_test)\n",
        "print(f\"Test MSE: {test_loss}\")"
      ],
      "metadata": {
        "colab": {
          "base_uri": "https://localhost:8080/"
        },
        "id": "sO7HC7R4IU1v",
        "outputId": "7e63c472-e387-4b75-f221-00ee6f002a40"
      },
      "execution_count": 13,
      "outputs": [
        {
          "output_type": "stream",
          "name": "stdout",
          "text": [
            "Test MSE: 0.0012806838262407986\n"
          ]
        }
      ]
    },
    {
      "cell_type": "code",
      "source": [
        "0# Step 6: User Input Prediction\n",
        "user_input = np.array([float(input(\"Enter x1: \")), float(input(\"Enter x2: \")), float(input(\"Enter x3: \"))])\n",
        "prediction = np.dot(user_input, weights) + bias\n",
        "print(f\"Predicted output: {prediction}\")"
      ],
      "metadata": {
        "colab": {
          "base_uri": "https://localhost:8080/"
        },
        "id": "zwI0JpF7IY71",
        "outputId": "27565737-14d7-4a4c-abbc-e15a2d225c43"
      },
      "execution_count": 14,
      "outputs": [
        {
          "output_type": "stream",
          "name": "stdout",
          "text": [
            "Enter x1: 0.1\n",
            "Enter x2: 0.2\n",
            "Enter x3: .3\n",
            "Predicted output: [0.16821316]\n"
          ]
        }
      ]
    }
  ]
}