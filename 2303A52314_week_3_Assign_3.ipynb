{
  "nbformat": 4,
  "nbformat_minor": 0,
  "metadata": {
    "colab": {
      "provenance": [],
      "authorship_tag": "ABX9TyOb6zBp+wO14xINfp4mZcR5",
      "include_colab_link": true
    },
    "kernelspec": {
      "name": "python3",
      "display_name": "Python 3"
    },
    "language_info": {
      "name": "python"
    }
  },
  "cells": [
    {
      "cell_type": "markdown",
      "metadata": {
        "id": "view-in-github",
        "colab_type": "text"
      },
      "source": [
        "<a href=\"https://colab.research.google.com/github/KedalaSahithya/genartive-AI_2025/blob/main/2303A52314_week_3_Assign_3.ipynb\" target=\"_parent\"><img src=\"https://colab.research.google.com/assets/colab-badge.svg\" alt=\"Open In Colab\"/></a>"
      ]
    },
    {
      "cell_type": "code",
      "source": [
        "# Optimization of f(x) = 5x^4 + 3x^2 + 10 using gradient descent\n",
        "def optimize_function(step_size, max_iterations):\n",
        "    x_value = 1\n",
        "    for _ in range(max_iterations):\n",
        "        deriv_f = 20 * x_value**3 + 6 * x_value\n",
        "        x_value -= step_size * deriv_f\n",
        "    return x_value\n",
        "result_x = optimize_function(0.01, 10000)\n",
        "print(\"Optimal x that minimizes f(x):\", result_x)\n"
      ],
      "metadata": {
        "colab": {
          "base_uri": "https://localhost:8080/"
        },
        "id": "x3nubdKtCnLs",
        "outputId": "a6283e19-dafc-4e9c-aa96-ae4797f92368"
      },
      "execution_count": 3,
      "outputs": [
        {
          "output_type": "stream",
          "name": "stdout",
          "text": [
            "Optimal x that minimizes f(x): 8.436971122868467e-270\n"
          ]
        }
      ]
    },
    {
      "cell_type": "code",
      "source": [
        "# Optimization of g(x, y) = 3x^2 + 5e^(-y) + 10 using gradient descent\n",
        "def optimize_function_2(step_size, max_iterations):\n",
        "    x_value, y_value = 1, 1\n",
        "    for _ in range(max_iterations):\n",
        "        deriv_x = 6 * x_value\n",
        "        deriv_y = -5 * (2.718**(-y_value))\n",
        "        x_value -= step_size * deriv_x\n",
        "        y_value -= step_size * deriv_y\n",
        "    return x_value, y_value\n",
        "result_x, result_y = optimize_function_2(0.01, 10000)\n",
        "print(\"Optimal values of x and y that minimize g(x, y):\", result_x, result_y)\n"
      ],
      "metadata": {
        "colab": {
          "base_uri": "https://localhost:8080/"
        },
        "id": "Awa4HZfqDpbK",
        "outputId": "959ba01d-e6a8-4f22-f571-499d740eaaff"
      },
      "execution_count": 4,
      "outputs": [
        {
          "output_type": "stream",
          "name": "stdout",
          "text": [
            "Optimal values of x and y that minimize g(x, y): 1.8990482403275175e-269 6.220831124790187\n"
          ]
        }
      ]
    },
    {
      "cell_type": "code",
      "source": [
        "# Optimization of sigmoid function z(x) = 1 / (1 + e^(-x)) using gradient descent\n",
        "def optimize_sigmoid(step_size, max_iterations):\n",
        "    x_value = 1\n",
        "    for _ in range(max_iterations):\n",
        "        sigmoid = 1 / (1 + 2.718**(-x_value))\n",
        "        deriv_z = sigmoid * (1 - sigmoid)\n",
        "        x_value -= step_size * deriv_z\n",
        "    return x_value\n",
        "result_x = optimize_sigmoid(0.01, 10000)\n",
        "print(\"Optimal x that minimizes z(x):\", result_x)\n"
      ],
      "metadata": {
        "colab": {
          "base_uri": "https://localhost:8080/"
        },
        "id": "kdoW7dt2EuG-",
        "outputId": "a9b86275-8a68-4b7f-c1a4-983328b86fc8"
      },
      "execution_count": 5,
      "outputs": [
        {
          "output_type": "stream",
          "name": "stdout",
          "text": [
            "Optimal x that minimizes z(x): -4.4633751131735755\n"
          ]
        }
      ]
    },
    {
      "cell_type": "code",
      "source": [
        "# Optimization of SE = (ExpectedOutput - PredictedOutput)^2 using gradient descent\n",
        "def minimize_square_error(learning_rate, iterations, data):\n",
        "    M, C = 0, 0\n",
        "    for _ in range(iterations):\n",
        "        gradient_M = sum(-2 * (y - (M * x + C)) * x for x, y in data)  # Compute gradient w.r.t M\n",
        "        gradient_C = sum(-2 * (y - (M * x + C)) for x, y in data)  # Compute gradient w.r.t C\n",
        "        M -= learning_rate * gradient_M / len(data)  # Update M using gradient descent\n",
        "        C -= learning_rate * gradient_C / len(data)  # Update C using gradient descent\n",
        "    return M, C\n",
        "training_data = [(1, 2), (2, 4), (3, 6), (4, 8)]\n",
        "optimal_M, optimal_C = minimize_square_error(0.01, 10000, training_data)\n",
        "print(\"Optimal values of M and C:\", optimal_M, optimal_C)\n"
      ],
      "metadata": {
        "colab": {
          "base_uri": "https://localhost:8080/"
        },
        "id": "dj3zpd9aExB0",
        "outputId": "e887a48f-8144-4081-975d-25a8059a698b"
      },
      "execution_count": 9,
      "outputs": [
        {
          "output_type": "stream",
          "name": "stdout",
          "text": [
            "Optimal values of M and C: 1.9999999999999796 5.955209924487201e-14\n"
          ]
        }
      ]
    }
  ]
}