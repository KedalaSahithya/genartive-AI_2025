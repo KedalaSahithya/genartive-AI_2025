{
  "nbformat": 4,
  "nbformat_minor": 0,
  "metadata": {
    "colab": {
      "provenance": [],
      "authorship_tag": "ABX9TyOnYqZOxzgT4OkRNU1YeWhV",
      "include_colab_link": true
    },
    "kernelspec": {
      "name": "python3",
      "display_name": "Python 3"
    },
    "language_info": {
      "name": "python"
    }
  },
  "cells": [
    {
      "cell_type": "markdown",
      "metadata": {
        "id": "view-in-github",
        "colab_type": "text"
      },
      "source": [
        "<a href=\"https://colab.research.google.com/github/KedalaSahithya/genartive-AI_2025/blob/main/2303A52314_W09_09.ipynb\" target=\"_parent\"><img src=\"https://colab.research.google.com/assets/colab-badge.svg\" alt=\"Open In Colab\"/></a>"
      ]
    },
    {
      "cell_type": "code",
      "execution_count": 1,
      "metadata": {
        "colab": {
          "base_uri": "https://localhost:8080/"
        },
        "id": "gi5uMkrBtqcG",
        "outputId": "fbec3745-0a62-456a-8b6d-2a765f388844"
      },
      "outputs": [
        {
          "output_type": "stream",
          "name": "stdout",
          "text": [
            "Downloading data from https://storage.googleapis.com/tensorflow/tf-keras-datasets/mnist.npz\n",
            "\u001b[1m11490434/11490434\u001b[0m \u001b[32m━━━━━━━━━━━━━━━━━━━━\u001b[0m\u001b[37m\u001b[0m \u001b[1m0s\u001b[0m 0us/step\n"
          ]
        },
        {
          "output_type": "stream",
          "name": "stderr",
          "text": [
            "/usr/local/lib/python3.11/dist-packages/keras/src/layers/reshaping/flatten.py:37: UserWarning: Do not pass an `input_shape`/`input_dim` argument to a layer. When using Sequential models, prefer using an `Input(shape)` object as the first layer in the model instead.\n",
            "  super().__init__(**kwargs)\n"
          ]
        },
        {
          "output_type": "stream",
          "name": "stdout",
          "text": [
            "\n",
            "Training Model 1...\n",
            "Epoch 1/10\n",
            "469/469 - 5s - 11ms/step - accuracy: 0.0974 - loss: 2.3172 - val_accuracy: 0.0967 - val_loss: 2.3125\n",
            "Epoch 2/10\n",
            "469/469 - 2s - 5ms/step - accuracy: 0.1046 - loss: 2.3066 - val_accuracy: 0.1052 - val_loss: 2.3018\n",
            "Epoch 3/10\n",
            "469/469 - 2s - 5ms/step - accuracy: 0.1127 - loss: 2.2965 - val_accuracy: 0.1118 - val_loss: 2.2916\n",
            "Epoch 4/10\n",
            "469/469 - 3s - 7ms/step - accuracy: 0.1191 - loss: 2.2865 - val_accuracy: 0.1180 - val_loss: 2.2813\n",
            "Epoch 5/10\n",
            "469/469 - 3s - 7ms/step - accuracy: 0.1260 - loss: 2.2763 - val_accuracy: 0.1242 - val_loss: 2.2707\n",
            "Epoch 6/10\n",
            "469/469 - 4s - 8ms/step - accuracy: 0.1318 - loss: 2.2656 - val_accuracy: 0.1297 - val_loss: 2.2593\n",
            "Epoch 7/10\n",
            "469/469 - 2s - 5ms/step - accuracy: 0.1368 - loss: 2.2541 - val_accuracy: 0.1352 - val_loss: 2.2470\n",
            "Epoch 8/10\n",
            "469/469 - 1s - 3ms/step - accuracy: 0.1430 - loss: 2.2416 - val_accuracy: 0.1414 - val_loss: 2.2335\n",
            "Epoch 9/10\n",
            "469/469 - 3s - 5ms/step - accuracy: 0.1500 - loss: 2.2279 - val_accuracy: 0.1482 - val_loss: 2.2188\n",
            "Epoch 10/10\n",
            "469/469 - 3s - 7ms/step - accuracy: 0.1581 - loss: 2.2130 - val_accuracy: 0.1578 - val_loss: 2.2027\n",
            "Model 1 - Training Accuracy: 0.1629\n",
            "Model 1 - Testing Accuracy: 0.1578\n",
            "\n",
            "Training Model 2...\n",
            "Epoch 1/10\n",
            "469/469 - 3s - 7ms/step - accuracy: 0.0813 - loss: 2.3392 - val_accuracy: 0.0844 - val_loss: 2.3162\n",
            "Epoch 2/10\n",
            "469/469 - 2s - 5ms/step - accuracy: 0.0970 - loss: 2.2926 - val_accuracy: 0.1020 - val_loss: 2.2696\n",
            "Epoch 3/10\n",
            "469/469 - 2s - 4ms/step - accuracy: 0.1218 - loss: 2.2480 - val_accuracy: 0.1294 - val_loss: 2.2247\n",
            "Epoch 4/10\n",
            "469/469 - 2s - 5ms/step - accuracy: 0.1584 - loss: 2.2050 - val_accuracy: 0.1739 - val_loss: 2.1814\n",
            "Epoch 5/10\n",
            "469/469 - 3s - 6ms/step - accuracy: 0.2061 - loss: 2.1636 - val_accuracy: 0.2280 - val_loss: 2.1395\n",
            "Epoch 6/10\n",
            "469/469 - 3s - 6ms/step - accuracy: 0.2594 - loss: 2.1231 - val_accuracy: 0.2865 - val_loss: 2.0984\n",
            "Epoch 7/10\n",
            "469/469 - 3s - 7ms/step - accuracy: 0.3138 - loss: 2.0833 - val_accuracy: 0.3388 - val_loss: 2.0576\n",
            "Epoch 8/10\n",
            "469/469 - 4s - 9ms/step - accuracy: 0.3645 - loss: 2.0437 - val_accuracy: 0.3903 - val_loss: 2.0167\n",
            "Epoch 9/10\n",
            "469/469 - 2s - 5ms/step - accuracy: 0.4114 - loss: 2.0036 - val_accuracy: 0.4394 - val_loss: 1.9755\n",
            "Epoch 10/10\n",
            "469/469 - 3s - 5ms/step - accuracy: 0.4554 - loss: 1.9630 - val_accuracy: 0.4859 - val_loss: 1.9335\n",
            "Model 2 - Training Accuracy: 0.4774\n",
            "Model 2 - Testing Accuracy: 0.4859\n",
            "\n",
            "Best model based on test accuracy: Model 2\n"
          ]
        }
      ],
      "source": [
        "import numpy as np\n",
        "import tensorflow as tf\n",
        "from tensorflow.keras.models import Sequential\n",
        "from tensorflow.keras.layers import Dense, Flatten\n",
        "from tensorflow.keras.datasets import mnist\n",
        "from tensorflow.keras.utils import to_categorical\n",
        "from tensorflow.keras.optimizers import Adadelta\n",
        "\n",
        "# Load dataset\n",
        "(x_train, y_train), (x_test, y_test) = mnist.load_data()\n",
        "\n",
        "# Normalize the data\n",
        "x_train = x_train / 255.0\n",
        "x_test = x_test / 255.0\n",
        "\n",
        "# One-hot encode the labels\n",
        "y_train = to_categorical(y_train, 10)\n",
        "y_test = to_categorical(y_test, 10)\n",
        "\n",
        "# Initial model (Architecture from Tabela 1)\n",
        "def build_model_1():\n",
        "    model = Sequential([\n",
        "        Flatten(input_shape=(28, 28)),\n",
        "        Dense(32, activation='relu'),\n",
        "        Dense(32, activation='relu'),\n",
        "        Dense(32, activation='relu'),\n",
        "        Dense(10, activation='softmax')\n",
        "    ])\n",
        "    return model\n",
        "\n",
        "# Alternate architecture with tuning\n",
        "def build_model_2():\n",
        "    model = Sequential([\n",
        "        Flatten(input_shape=(28, 28)),\n",
        "        Dense(64, activation='relu'),\n",
        "        Dense(64, activation='relu'),\n",
        "        Dense(10, activation='softmax')\n",
        "    ])\n",
        "    return model\n",
        "\n",
        "# Compile, train and evaluate model\n",
        "def compile_train_evaluate(model, name=\"Model\"):\n",
        "    model.compile(optimizer=Adadelta(), loss='categorical_crossentropy', metrics=['accuracy'])\n",
        "    print(f\"\\nTraining {name}...\")\n",
        "    history = model.fit(x_train, y_train, epochs=10, batch_size=128, verbose=2, validation_data=(x_test, y_test))\n",
        "    train_loss, train_acc = model.evaluate(x_train, y_train, verbose=0)\n",
        "    test_loss, test_acc = model.evaluate(x_test, y_test, verbose=0)\n",
        "    print(f\"{name} - Training Accuracy: {train_acc:.4f}\")\n",
        "    print(f\"{name} - Testing Accuracy: {test_acc:.4f}\")\n",
        "    return model, history, test_acc\n",
        "\n",
        "# Train original model\n",
        "model1, hist1, acc1 = compile_train_evaluate(build_model_1(), \"Model 1\")\n",
        "\n",
        "# Train tuned model\n",
        "model2, hist2, acc2 = compile_train_evaluate(build_model_2(), \"Model 2\")\n",
        "\n",
        "# Choose the best model\n",
        "best_model = model1 if acc1 > acc2 else model2\n",
        "print(\"\\nBest model based on test accuracy:\", \"Model 1\" if acc1 > acc2 else \"Model 2\")"
      ]
    }
  ]
}