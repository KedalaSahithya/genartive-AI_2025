{
  "nbformat": 4,
  "nbformat_minor": 0,
  "metadata": {
    "colab": {
      "provenance": [],
      "authorship_tag": "ABX9TyPVLw3toWSY5oLPv6Tm4P/f",
      "include_colab_link": true
    },
    "kernelspec": {
      "name": "python3",
      "display_name": "Python 3"
    },
    "language_info": {
      "name": "python"
    }
  },
  "cells": [
    {
      "cell_type": "markdown",
      "metadata": {
        "id": "view-in-github",
        "colab_type": "text"
      },
      "source": [
        "<a href=\"https://colab.research.google.com/github/KedalaSahithya/genartive-AI_2025/blob/main/2303A52314_week_5_Assignment_5_3.ipynb\" target=\"_parent\"><img src=\"https://colab.research.google.com/assets/colab-badge.svg\" alt=\"Open In Colab\"/></a>"
      ]
    },
    {
      "cell_type": "code",
      "execution_count": 1,
      "metadata": {
        "colab": {
          "base_uri": "https://localhost:8080/"
        },
        "id": "srzCgYX0A0Kz",
        "outputId": "63e162cb-f63e-40fa-fd35-dbb57c99ee56"
      },
      "outputs": [
        {
          "output_type": "stream",
          "name": "stdout",
          "text": [
            "Epoch 0, Loss: 3.7560722426296205\n",
            "Epoch 2000, Loss: 5.580842359748222e-05\n",
            "Epoch 4000, Loss: 1.609111107787692e-05\n",
            "Epoch 6000, Loss: 1.1725153405396176e-05\n",
            "Epoch 8000, Loss: 8.723400621385125e-06\n",
            "\n",
            "Final Training MSE: 6.582022769996908e-06\n",
            "Final Testing MSE: 2.646859970160082e-05\n",
            "\n",
            "Enter values for x1 and x2: 1 2\n",
            "Predicted Output: 0.4125383730309543\n"
          ]
        }
      ],
      "source": [
        "import numpy as np\n",
        "\n",
        "# Sigmoid activation function and its derivative\n",
        "def sigmoid(x):\n",
        "    return 1 / (1 + np.exp(-x))\n",
        "\n",
        "def sigmoid_derivative(x):\n",
        "    return x * (1 - x)\n",
        "\n",
        "# Mean Squared Error function\n",
        "def mse(y_true, y_pred):\n",
        "    return np.mean((y_true - y_pred) ** 2)\n",
        "\n",
        "# Training Data (from Table 1)\n",
        "X_train = np.array([[1, 2], [2, 3], [5, 6], [6, 7], [7, 8], [8, 9]])\n",
        "y_train = np.array([[0.4140], [0.4611], [0.5501], [0.5656], [0.5765], [0.5840]])\n",
        "\n",
        "# Test Data (from Table 2)\n",
        "X_test = np.array([[3, 4], [4, 5]])\n",
        "y_test = np.array([[0.4992], [0.5285]])\n",
        "\n",
        "# Initialize weights and biases\n",
        "input_neurons = 2\n",
        "hidden_neurons = 3\n",
        "output_neurons = 1\n",
        "learning_rate = 0.01\n",
        "epochs = 10000\n",
        "\n",
        "np.random.seed(42)\n",
        "W1 = np.random.rand(input_neurons, hidden_neurons)  # Input to Hidden weights\n",
        "b1 = np.random.rand(1, hidden_neurons)  # Hidden layer bias\n",
        "W2 = np.random.rand(hidden_neurons, output_neurons)  # Hidden to Output weights\n",
        "b2 = np.random.rand(1, output_neurons)  # Output layer bias\n",
        "\n",
        "# Training process using backpropagation\n",
        "for epoch in range(epochs):\n",
        "    # Forward propagation\n",
        "    hidden_input = np.dot(X_train, W1) + b1\n",
        "    hidden_output = sigmoid(hidden_input)\n",
        "    final_input = np.dot(hidden_output, W2) + b2\n",
        "    final_output = final_input  # Linear activation\n",
        "\n",
        "    # Compute error\n",
        "    error = y_train - final_output\n",
        "\n",
        "    # Backpropagation\n",
        "    d_output = error  # For linear activation, derivative is just the error\n",
        "    d_hidden = d_output.dot(W2.T) * sigmoid_derivative(hidden_output)\n",
        "\n",
        "    # Update weights and biases\n",
        "    W2 += hidden_output.T.dot(d_output) * learning_rate\n",
        "    b2 += np.sum(d_output, axis=0, keepdims=True) * learning_rate\n",
        "    W1 += X_train.T.dot(d_hidden) * learning_rate\n",
        "    b1 += np.sum(d_hidden, axis=0, keepdims=True) * learning_rate\n",
        "\n",
        "    # Print loss occasionally\n",
        "    if epoch % 2000 == 0:\n",
        "        print(f\"Epoch {epoch}, Loss: {mse(y_train, final_output)}\")\n",
        "\n",
        "# Calculate MSE for training and test data\n",
        "train_predictions = np.dot(sigmoid(np.dot(X_train, W1) + b1), W2) + b2\n",
        "test_predictions = np.dot(sigmoid(np.dot(X_test, W1) + b1), W2) + b2\n",
        "\n",
        "print(\"\\nFinal Training MSE:\", mse(y_train, train_predictions))\n",
        "print(\"Final Testing MSE:\", mse(y_test, test_predictions))\n",
        "\n",
        "# User input prediction\n",
        "x1, x2 = map(float, input(\"\\nEnter values for x1 and x2: \").split())\n",
        "user_input = np.array([[x1, x2]])\n",
        "hidden_layer = sigmoid(np.dot(user_input, W1) + b1)\n",
        "predicted_output = np.dot(hidden_layer, W2) + b2\n",
        "print(\"Predicted Output:\", predicted_output[0][0])\n"
      ]
    }
  ]
}